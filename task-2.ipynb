{
 "cells": [
  {
   "cell_type": "code",
   "execution_count": 26,
   "metadata": {},
   "outputs": [],
   "source": [
    "import pandas as pd\n",
    "import numpy as np"
   ]
  },
  {
   "cell_type": "code",
   "execution_count": 27,
   "metadata": {},
   "outputs": [],
   "source": [
    "content=pd.read_csv('Content.csv')\n",
    "reaction=pd.read_csv('Reactions.csv')\n",
    "reactiontype=pd.read_csv('ReactionTypes.csv')"
   ]
  },
  {
   "cell_type": "code",
   "execution_count": 28,
   "metadata": {},
   "outputs": [
    {
     "data": {
      "text/html": [
       "<div>\n",
       "<style scoped>\n",
       "    .dataframe tbody tr th:only-of-type {\n",
       "        vertical-align: middle;\n",
       "    }\n",
       "\n",
       "    .dataframe tbody tr th {\n",
       "        vertical-align: top;\n",
       "    }\n",
       "\n",
       "    .dataframe thead th {\n",
       "        text-align: right;\n",
       "    }\n",
       "</style>\n",
       "<table border=\"1\" class=\"dataframe\">\n",
       "  <thead>\n",
       "    <tr style=\"text-align: right;\">\n",
       "      <th></th>\n",
       "      <th>Unnamed: 0</th>\n",
       "      <th>Content ID</th>\n",
       "      <th>Reaction Type</th>\n",
       "      <th>Datetime</th>\n",
       "      <th>Content Type</th>\n",
       "      <th>Category</th>\n",
       "    </tr>\n",
       "  </thead>\n",
       "  <tbody>\n",
       "    <tr>\n",
       "      <th>0</th>\n",
       "      <td>1</td>\n",
       "      <td>97522e57-d9ab-4bd6-97bf-c24d952602d2</td>\n",
       "      <td>disgust</td>\n",
       "      <td>07-11-2020 09:43</td>\n",
       "      <td>photo</td>\n",
       "      <td>Studying</td>\n",
       "    </tr>\n",
       "    <tr>\n",
       "      <th>1</th>\n",
       "      <td>2</td>\n",
       "      <td>97522e57-d9ab-4bd6-97bf-c24d952602d2</td>\n",
       "      <td>dislike</td>\n",
       "      <td>17-06-2021 12:22</td>\n",
       "      <td>photo</td>\n",
       "      <td>Studying</td>\n",
       "    </tr>\n",
       "    <tr>\n",
       "      <th>2</th>\n",
       "      <td>3</td>\n",
       "      <td>97522e57-d9ab-4bd6-97bf-c24d952602d2</td>\n",
       "      <td>scared</td>\n",
       "      <td>18-04-2021 05:13</td>\n",
       "      <td>photo</td>\n",
       "      <td>Studying</td>\n",
       "    </tr>\n",
       "    <tr>\n",
       "      <th>3</th>\n",
       "      <td>4</td>\n",
       "      <td>97522e57-d9ab-4bd6-97bf-c24d952602d2</td>\n",
       "      <td>disgust</td>\n",
       "      <td>06-01-2021 19:13</td>\n",
       "      <td>photo</td>\n",
       "      <td>Studying</td>\n",
       "    </tr>\n",
       "    <tr>\n",
       "      <th>4</th>\n",
       "      <td>5</td>\n",
       "      <td>97522e57-d9ab-4bd6-97bf-c24d952602d2</td>\n",
       "      <td>interested</td>\n",
       "      <td>23-08-2020 12:25</td>\n",
       "      <td>photo</td>\n",
       "      <td>Studying</td>\n",
       "    </tr>\n",
       "    <tr>\n",
       "      <th>...</th>\n",
       "      <td>...</td>\n",
       "      <td>...</td>\n",
       "      <td>...</td>\n",
       "      <td>...</td>\n",
       "      <td>...</td>\n",
       "      <td>...</td>\n",
       "    </tr>\n",
       "    <tr>\n",
       "      <th>24568</th>\n",
       "      <td>25548</td>\n",
       "      <td>75d6b589-7fae-4a6d-b0d0-752845150e56</td>\n",
       "      <td>dislike</td>\n",
       "      <td>27-06-2020 09:46</td>\n",
       "      <td>audio</td>\n",
       "      <td>technology</td>\n",
       "    </tr>\n",
       "    <tr>\n",
       "      <th>24569</th>\n",
       "      <td>25549</td>\n",
       "      <td>75d6b589-7fae-4a6d-b0d0-752845150e56</td>\n",
       "      <td>intrigued</td>\n",
       "      <td>16-02-2021 17:17</td>\n",
       "      <td>audio</td>\n",
       "      <td>technology</td>\n",
       "    </tr>\n",
       "    <tr>\n",
       "      <th>24570</th>\n",
       "      <td>25550</td>\n",
       "      <td>75d6b589-7fae-4a6d-b0d0-752845150e56</td>\n",
       "      <td>interested</td>\n",
       "      <td>12-09-2020 03:54</td>\n",
       "      <td>audio</td>\n",
       "      <td>technology</td>\n",
       "    </tr>\n",
       "    <tr>\n",
       "      <th>24571</th>\n",
       "      <td>25551</td>\n",
       "      <td>75d6b589-7fae-4a6d-b0d0-752845150e56</td>\n",
       "      <td>worried</td>\n",
       "      <td>04-11-2020 20:08</td>\n",
       "      <td>audio</td>\n",
       "      <td>technology</td>\n",
       "    </tr>\n",
       "    <tr>\n",
       "      <th>24572</th>\n",
       "      <td>25552</td>\n",
       "      <td>75d6b589-7fae-4a6d-b0d0-752845150e56</td>\n",
       "      <td>cherish</td>\n",
       "      <td>04-01-2021 04:55</td>\n",
       "      <td>audio</td>\n",
       "      <td>technology</td>\n",
       "    </tr>\n",
       "  </tbody>\n",
       "</table>\n",
       "<p>24573 rows × 6 columns</p>\n",
       "</div>"
      ],
      "text/plain": [
       "       Unnamed: 0                            Content ID Reaction Type  \\\n",
       "0               1  97522e57-d9ab-4bd6-97bf-c24d952602d2       disgust   \n",
       "1               2  97522e57-d9ab-4bd6-97bf-c24d952602d2       dislike   \n",
       "2               3  97522e57-d9ab-4bd6-97bf-c24d952602d2        scared   \n",
       "3               4  97522e57-d9ab-4bd6-97bf-c24d952602d2       disgust   \n",
       "4               5  97522e57-d9ab-4bd6-97bf-c24d952602d2    interested   \n",
       "...           ...                                   ...           ...   \n",
       "24568       25548  75d6b589-7fae-4a6d-b0d0-752845150e56       dislike   \n",
       "24569       25549  75d6b589-7fae-4a6d-b0d0-752845150e56     intrigued   \n",
       "24570       25550  75d6b589-7fae-4a6d-b0d0-752845150e56    interested   \n",
       "24571       25551  75d6b589-7fae-4a6d-b0d0-752845150e56       worried   \n",
       "24572       25552  75d6b589-7fae-4a6d-b0d0-752845150e56       cherish   \n",
       "\n",
       "               Datetime Content Type    Category  \n",
       "0      07-11-2020 09:43        photo    Studying  \n",
       "1      17-06-2021 12:22        photo    Studying  \n",
       "2      18-04-2021 05:13        photo    Studying  \n",
       "3      06-01-2021 19:13        photo    Studying  \n",
       "4      23-08-2020 12:25        photo    Studying  \n",
       "...                 ...          ...         ...  \n",
       "24568  27-06-2020 09:46        audio  technology  \n",
       "24569  16-02-2021 17:17        audio  technology  \n",
       "24570  12-09-2020 03:54        audio  technology  \n",
       "24571  04-11-2020 20:08        audio  technology  \n",
       "24572  04-01-2021 04:55        audio  technology  \n",
       "\n",
       "[24573 rows x 6 columns]"
      ]
     },
     "execution_count": 28,
     "metadata": {},
     "output_type": "execute_result"
    }
   ],
   "source": [
    "df=reaction.merge(content,on='Content ID', how='left')\n",
    "df"
   ]
  },
  {
   "cell_type": "code",
   "execution_count": 29,
   "metadata": {},
   "outputs": [
    {
     "data": {
      "text/html": [
       "<div>\n",
       "<style scoped>\n",
       "    .dataframe tbody tr th:only-of-type {\n",
       "        vertical-align: middle;\n",
       "    }\n",
       "\n",
       "    .dataframe tbody tr th {\n",
       "        vertical-align: top;\n",
       "    }\n",
       "\n",
       "    .dataframe thead th {\n",
       "        text-align: right;\n",
       "    }\n",
       "</style>\n",
       "<table border=\"1\" class=\"dataframe\">\n",
       "  <thead>\n",
       "    <tr style=\"text-align: right;\">\n",
       "      <th></th>\n",
       "      <th>Unnamed: 0</th>\n",
       "      <th>Content ID</th>\n",
       "      <th>Reaction Type</th>\n",
       "      <th>Datetime</th>\n",
       "      <th>Content Type</th>\n",
       "      <th>Category</th>\n",
       "      <th>Sentiment</th>\n",
       "      <th>Score</th>\n",
       "    </tr>\n",
       "  </thead>\n",
       "  <tbody>\n",
       "    <tr>\n",
       "      <th>0</th>\n",
       "      <td>1</td>\n",
       "      <td>97522e57-d9ab-4bd6-97bf-c24d952602d2</td>\n",
       "      <td>disgust</td>\n",
       "      <td>07-11-2020 09:43</td>\n",
       "      <td>photo</td>\n",
       "      <td>Studying</td>\n",
       "      <td>negative</td>\n",
       "      <td>0</td>\n",
       "    </tr>\n",
       "    <tr>\n",
       "      <th>1</th>\n",
       "      <td>2</td>\n",
       "      <td>97522e57-d9ab-4bd6-97bf-c24d952602d2</td>\n",
       "      <td>dislike</td>\n",
       "      <td>17-06-2021 12:22</td>\n",
       "      <td>photo</td>\n",
       "      <td>Studying</td>\n",
       "      <td>negative</td>\n",
       "      <td>10</td>\n",
       "    </tr>\n",
       "    <tr>\n",
       "      <th>2</th>\n",
       "      <td>3</td>\n",
       "      <td>97522e57-d9ab-4bd6-97bf-c24d952602d2</td>\n",
       "      <td>scared</td>\n",
       "      <td>18-04-2021 05:13</td>\n",
       "      <td>photo</td>\n",
       "      <td>Studying</td>\n",
       "      <td>negative</td>\n",
       "      <td>15</td>\n",
       "    </tr>\n",
       "    <tr>\n",
       "      <th>3</th>\n",
       "      <td>4</td>\n",
       "      <td>97522e57-d9ab-4bd6-97bf-c24d952602d2</td>\n",
       "      <td>disgust</td>\n",
       "      <td>06-01-2021 19:13</td>\n",
       "      <td>photo</td>\n",
       "      <td>Studying</td>\n",
       "      <td>negative</td>\n",
       "      <td>0</td>\n",
       "    </tr>\n",
       "    <tr>\n",
       "      <th>4</th>\n",
       "      <td>5</td>\n",
       "      <td>97522e57-d9ab-4bd6-97bf-c24d952602d2</td>\n",
       "      <td>interested</td>\n",
       "      <td>23-08-2020 12:25</td>\n",
       "      <td>photo</td>\n",
       "      <td>Studying</td>\n",
       "      <td>positive</td>\n",
       "      <td>30</td>\n",
       "    </tr>\n",
       "    <tr>\n",
       "      <th>...</th>\n",
       "      <td>...</td>\n",
       "      <td>...</td>\n",
       "      <td>...</td>\n",
       "      <td>...</td>\n",
       "      <td>...</td>\n",
       "      <td>...</td>\n",
       "      <td>...</td>\n",
       "      <td>...</td>\n",
       "    </tr>\n",
       "    <tr>\n",
       "      <th>24568</th>\n",
       "      <td>25548</td>\n",
       "      <td>75d6b589-7fae-4a6d-b0d0-752845150e56</td>\n",
       "      <td>dislike</td>\n",
       "      <td>27-06-2020 09:46</td>\n",
       "      <td>audio</td>\n",
       "      <td>technology</td>\n",
       "      <td>negative</td>\n",
       "      <td>10</td>\n",
       "    </tr>\n",
       "    <tr>\n",
       "      <th>24569</th>\n",
       "      <td>25549</td>\n",
       "      <td>75d6b589-7fae-4a6d-b0d0-752845150e56</td>\n",
       "      <td>intrigued</td>\n",
       "      <td>16-02-2021 17:17</td>\n",
       "      <td>audio</td>\n",
       "      <td>technology</td>\n",
       "      <td>positive</td>\n",
       "      <td>45</td>\n",
       "    </tr>\n",
       "    <tr>\n",
       "      <th>24570</th>\n",
       "      <td>25550</td>\n",
       "      <td>75d6b589-7fae-4a6d-b0d0-752845150e56</td>\n",
       "      <td>interested</td>\n",
       "      <td>12-09-2020 03:54</td>\n",
       "      <td>audio</td>\n",
       "      <td>technology</td>\n",
       "      <td>positive</td>\n",
       "      <td>30</td>\n",
       "    </tr>\n",
       "    <tr>\n",
       "      <th>24571</th>\n",
       "      <td>25551</td>\n",
       "      <td>75d6b589-7fae-4a6d-b0d0-752845150e56</td>\n",
       "      <td>worried</td>\n",
       "      <td>04-11-2020 20:08</td>\n",
       "      <td>audio</td>\n",
       "      <td>technology</td>\n",
       "      <td>negative</td>\n",
       "      <td>12</td>\n",
       "    </tr>\n",
       "    <tr>\n",
       "      <th>24572</th>\n",
       "      <td>25552</td>\n",
       "      <td>75d6b589-7fae-4a6d-b0d0-752845150e56</td>\n",
       "      <td>cherish</td>\n",
       "      <td>04-01-2021 04:55</td>\n",
       "      <td>audio</td>\n",
       "      <td>technology</td>\n",
       "      <td>positive</td>\n",
       "      <td>70</td>\n",
       "    </tr>\n",
       "  </tbody>\n",
       "</table>\n",
       "<p>24573 rows × 8 columns</p>\n",
       "</div>"
      ],
      "text/plain": [
       "       Unnamed: 0                            Content ID Reaction Type  \\\n",
       "0               1  97522e57-d9ab-4bd6-97bf-c24d952602d2       disgust   \n",
       "1               2  97522e57-d9ab-4bd6-97bf-c24d952602d2       dislike   \n",
       "2               3  97522e57-d9ab-4bd6-97bf-c24d952602d2        scared   \n",
       "3               4  97522e57-d9ab-4bd6-97bf-c24d952602d2       disgust   \n",
       "4               5  97522e57-d9ab-4bd6-97bf-c24d952602d2    interested   \n",
       "...           ...                                   ...           ...   \n",
       "24568       25548  75d6b589-7fae-4a6d-b0d0-752845150e56       dislike   \n",
       "24569       25549  75d6b589-7fae-4a6d-b0d0-752845150e56     intrigued   \n",
       "24570       25550  75d6b589-7fae-4a6d-b0d0-752845150e56    interested   \n",
       "24571       25551  75d6b589-7fae-4a6d-b0d0-752845150e56       worried   \n",
       "24572       25552  75d6b589-7fae-4a6d-b0d0-752845150e56       cherish   \n",
       "\n",
       "               Datetime Content Type    Category Sentiment  Score  \n",
       "0      07-11-2020 09:43        photo    Studying  negative      0  \n",
       "1      17-06-2021 12:22        photo    Studying  negative     10  \n",
       "2      18-04-2021 05:13        photo    Studying  negative     15  \n",
       "3      06-01-2021 19:13        photo    Studying  negative      0  \n",
       "4      23-08-2020 12:25        photo    Studying  positive     30  \n",
       "...                 ...          ...         ...       ...    ...  \n",
       "24568  27-06-2020 09:46        audio  technology  negative     10  \n",
       "24569  16-02-2021 17:17        audio  technology  positive     45  \n",
       "24570  12-09-2020 03:54        audio  technology  positive     30  \n",
       "24571  04-11-2020 20:08        audio  technology  negative     12  \n",
       "24572  04-01-2021 04:55        audio  technology  positive     70  \n",
       "\n",
       "[24573 rows x 8 columns]"
      ]
     },
     "execution_count": 29,
     "metadata": {},
     "output_type": "execute_result"
    }
   ],
   "source": [
    "df=df.merge(reactiontype,on='Reaction Type',how='left')\n",
    "df"
   ]
  },
  {
   "cell_type": "code",
   "execution_count": 30,
   "metadata": {},
   "outputs": [
    {
     "data": {
      "text/plain": [
       "Unnamed: 0        int64\n",
       "Content ID       object\n",
       "Reaction Type    object\n",
       "Datetime         object\n",
       "Content Type     object\n",
       "Category         object\n",
       "Sentiment        object\n",
       "Score             int64\n",
       "dtype: object"
      ]
     },
     "execution_count": 30,
     "metadata": {},
     "output_type": "execute_result"
    }
   ],
   "source": [
    "df.dtypes"
   ]
  },
  {
   "cell_type": "code",
   "execution_count": 31,
   "metadata": {},
   "outputs": [
    {
     "data": {
      "text/plain": [
       "\"tst=pd.DataFrame(df)\\ntst['Sentiment_x'].equals(tst['Sentiment_y'])\""
      ]
     },
     "execution_count": 31,
     "metadata": {},
     "output_type": "execute_result"
    }
   ],
   "source": [
    "'''tst=pd.DataFrame(df)\n",
    "tst['Sentiment_x'].equals(tst['Sentiment_y'])'''"
   ]
  },
  {
   "cell_type": "code",
   "execution_count": 32,
   "metadata": {},
   "outputs": [
    {
     "data": {
      "text/plain": [
       "\"tst=pd.DataFrame(df)\\ntst['Score_x'].equals(tst['Score_y'])\""
      ]
     },
     "execution_count": 32,
     "metadata": {},
     "output_type": "execute_result"
    }
   ],
   "source": [
    "'''tst=pd.DataFrame(df)\n",
    "tst['Score_x'].equals(tst['Score_y'])'''"
   ]
  },
  {
   "cell_type": "code",
   "execution_count": 33,
   "metadata": {},
   "outputs": [
    {
     "data": {
      "text/plain": [
       "\"tst = tst.drop(['Sentiment_y', 'Score_y'], axis=1)\\ntst\""
      ]
     },
     "execution_count": 33,
     "metadata": {},
     "output_type": "execute_result"
    }
   ],
   "source": [
    "'''tst = tst.drop(['Sentiment_y', 'Score_y'], axis=1)\n",
    "tst'''"
   ]
  },
  {
   "cell_type": "code",
   "execution_count": 34,
   "metadata": {},
   "outputs": [],
   "source": [
    "category_scores = df.groupby('Category')['Score'].sum()"
   ]
  },
  {
   "cell_type": "code",
   "execution_count": 36,
   "metadata": {},
   "outputs": [
    {
     "name": "stdout",
     "output_type": "stream",
     "text": [
      "Index(['animals', 'healthy eating', 'technology', 'science', 'culture'], dtype='object', name='Category')\n"
     ]
    }
   ],
   "source": [
    "top_5_categories = category_scores.sort_values(ascending=False).head(5).index\n",
    "print(top_5_categories)"
   ]
  },
  {
   "cell_type": "code",
   "execution_count": 37,
   "metadata": {},
   "outputs": [],
   "source": [
    "df['Top_5_Categories'] = ''\n",
    "for i in range(len(top_5_categories)):\n",
    "    df.loc[i, 'Top_5_Categories'] = top_5_categories[i]"
   ]
  },
  {
   "cell_type": "code",
   "execution_count": 38,
   "metadata": {},
   "outputs": [],
   "source": [
    "df.to_excel('Reactions.xlsx',index=False)"
   ]
  },
  {
   "cell_type": "code",
   "execution_count": null,
   "metadata": {},
   "outputs": [],
   "source": []
  }
 ],
 "metadata": {
  "kernelspec": {
   "display_name": "Python 3",
   "language": "python",
   "name": "python3"
  },
  "language_info": {
   "codemirror_mode": {
    "name": "ipython",
    "version": 3
   },
   "file_extension": ".py",
   "mimetype": "text/x-python",
   "name": "python",
   "nbconvert_exporter": "python",
   "pygments_lexer": "ipython3",
   "version": "3.8.5"
  }
 },
 "nbformat": 4,
 "nbformat_minor": 4
}
